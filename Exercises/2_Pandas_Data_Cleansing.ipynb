{
 "cells": [
  {
   "cell_type": "markdown",
   "id": "da7edf1a",
   "metadata": {},
   "source": [
    "# Data Cleanup"
   ]
  },
  {
   "cell_type": "code",
   "execution_count": 38,
   "id": "394ff361",
   "metadata": {},
   "outputs": [],
   "source": [
    "# prepare environment\n",
    "from datasets import load_dataset\n",
    "from datetime import datetime\n",
    "import pandas as pd\n",
    "import numpy as np\n",
    "import matplotlib.pyplot as plt\n",
    "dataset = load_dataset('lukebarousse/data_jobs')\n",
    "df = dataset['train'].to_pandas()"
   ]
  },
  {
   "cell_type": "code",
   "execution_count": 8,
   "id": "80e6b0ca",
   "metadata": {},
   "outputs": [
    {
     "name": "stdout",
     "output_type": "stream",
     "text": [
      "Median Yearly Salary: 115000.0\n",
      "Median Hourly Salary: 45.97999954223633\n"
     ]
    }
   ],
   "source": [
    "# Calculate Median Salary as variable\n",
    "median_yearly_salary = df['salary_year_avg'].median()\n",
    "median_hourly_salary = df['salary_hour_avg'].median()\n",
    "print(f\"Median Yearly Salary: {median_yearly_salary}\")\n",
    "print(f\"Median Hourly Salary: {median_hourly_salary}\")"
   ]
  },
  {
   "cell_type": "code",
   "execution_count": 19,
   "id": "c7f4a3eb",
   "metadata": {},
   "outputs": [
    {
     "data": {
      "text/html": [
       "<div>\n",
       "<style scoped>\n",
       "    .dataframe tbody tr th:only-of-type {\n",
       "        vertical-align: middle;\n",
       "    }\n",
       "\n",
       "    .dataframe tbody tr th {\n",
       "        vertical-align: top;\n",
       "    }\n",
       "\n",
       "    .dataframe thead th {\n",
       "        text-align: right;\n",
       "    }\n",
       "</style>\n",
       "<table border=\"1\" class=\"dataframe\">\n",
       "  <thead>\n",
       "    <tr style=\"text-align: right;\">\n",
       "      <th></th>\n",
       "      <th>salary_year_avg</th>\n",
       "      <th>salary_hour_avg</th>\n",
       "    </tr>\n",
       "  </thead>\n",
       "  <tbody>\n",
       "    <tr>\n",
       "      <th>0</th>\n",
       "      <td>115000.0</td>\n",
       "      <td>45.98</td>\n",
       "    </tr>\n",
       "    <tr>\n",
       "      <th>1</th>\n",
       "      <td>115000.0</td>\n",
       "      <td>45.98</td>\n",
       "    </tr>\n",
       "    <tr>\n",
       "      <th>2</th>\n",
       "      <td>115000.0</td>\n",
       "      <td>45.98</td>\n",
       "    </tr>\n",
       "    <tr>\n",
       "      <th>3</th>\n",
       "      <td>115000.0</td>\n",
       "      <td>45.98</td>\n",
       "    </tr>\n",
       "    <tr>\n",
       "      <th>4</th>\n",
       "      <td>115000.0</td>\n",
       "      <td>45.98</td>\n",
       "    </tr>\n",
       "    <tr>\n",
       "      <th>...</th>\n",
       "      <td>...</td>\n",
       "      <td>...</td>\n",
       "    </tr>\n",
       "    <tr>\n",
       "      <th>785736</th>\n",
       "      <td>115000.0</td>\n",
       "      <td>45.98</td>\n",
       "    </tr>\n",
       "    <tr>\n",
       "      <th>785737</th>\n",
       "      <td>115000.0</td>\n",
       "      <td>45.98</td>\n",
       "    </tr>\n",
       "    <tr>\n",
       "      <th>785738</th>\n",
       "      <td>115000.0</td>\n",
       "      <td>45.98</td>\n",
       "    </tr>\n",
       "    <tr>\n",
       "      <th>785739</th>\n",
       "      <td>115000.0</td>\n",
       "      <td>45.98</td>\n",
       "    </tr>\n",
       "    <tr>\n",
       "      <th>785740</th>\n",
       "      <td>115000.0</td>\n",
       "      <td>45.98</td>\n",
       "    </tr>\n",
       "  </tbody>\n",
       "</table>\n",
       "<p>785741 rows × 2 columns</p>\n",
       "</div>"
      ],
      "text/plain": [
       "        salary_year_avg  salary_hour_avg\n",
       "0              115000.0            45.98\n",
       "1              115000.0            45.98\n",
       "2              115000.0            45.98\n",
       "3              115000.0            45.98\n",
       "4              115000.0            45.98\n",
       "...                 ...              ...\n",
       "785736         115000.0            45.98\n",
       "785737         115000.0            45.98\n",
       "785738         115000.0            45.98\n",
       "785739         115000.0            45.98\n",
       "785740         115000.0            45.98\n",
       "\n",
       "[785741 rows x 2 columns]"
      ]
     },
     "execution_count": 19,
     "metadata": {},
     "output_type": "execute_result"
    }
   ],
   "source": [
    "df_filled = df.copy()\n",
    "df_filled['salary_year_avg'] = df_filled['salary_year_avg'].fillna(median_yearly_salary)\n",
    "df_filled['salary_hour_avg'] = df_filled['salary_hour_avg'].fillna(median_hourly_salary)\n",
    "df_filled.loc[:, ['salary_year_avg', 'salary_hour_avg']]"
   ]
  },
  {
   "cell_type": "code",
   "execution_count": null,
   "id": "5821959c",
   "metadata": {},
   "outputs": [
    {
     "name": "stdout",
     "output_type": "stream",
     "text": [
      "Lenght of original df: 785741\n",
      "Lenght of drop duplicates df: 785640\n",
      "Number of duplicates: 101\n"
     ]
    }
   ],
   "source": [
    "# drop duplicates (entire row duplicated)\n",
    "df_uniques = df_filled\n",
    "df_uniques = df_uniques.drop_duplicates()\n",
    "print(f\"Lenght of original df: {len(df_filled)}\")\n",
    "print(f\"Lenght of drop duplicates df: {len(df_uniques)}\")\n",
    "print(f\"Number of duplicates: {len(df_filled) - len(df_uniques)}\")\n"
   ]
  },
  {
   "cell_type": "code",
   "execution_count": 22,
   "id": "4fe9e480",
   "metadata": {},
   "outputs": [
    {
     "name": "stdout",
     "output_type": "stream",
     "text": [
      "Lenght of original df: 785741\n",
      "Lenght of drop duplicates df: 508042\n",
      "Number of duplicates: 277699\n"
     ]
    }
   ],
   "source": [
    "# drop duplicates (only job_title and company_name duplicated -> same job posting on different sites or times)\n",
    "df_uniques = df_uniques.drop_duplicates(subset=['job_title', 'company_name'])\n",
    "print(f\"Lenght of original df: {len(df_filled)}\")\n",
    "print(f\"Lenght of drop duplicates df: {len(df_uniques)}\")\n",
    "print(f\"Number of duplicates: {len(df_filled) - len(df_uniques)}\")"
   ]
  },
  {
   "cell_type": "code",
   "execution_count": 32,
   "id": "0e2d8b67",
   "metadata": {},
   "outputs": [
    {
     "name": "stdout",
     "output_type": "stream",
     "text": [
      "Original rows: 785741\n",
      "Rows after dropna: 22003\n",
      "Number of rows dropped: 763738\n"
     ]
    }
   ],
   "source": [
    "# drop na on salary_year_avg\n",
    "df_notna = df.dropna(subset = ['salary_year_avg'])\n",
    "print(f\"Original rows: {len(df_filled)}\")\n",
    "print(f\"Rows after dropna: {len(df_notna)}\")\n",
    "print(f\"Number of rows dropped: {len(df_filled) - len(df_notna)}\")\n"
   ]
  },
  {
   "cell_type": "code",
   "execution_count": 41,
   "id": "0aa25fdb",
   "metadata": {},
   "outputs": [
    {
     "name": "stdout",
     "output_type": "stream",
     "text": [
      "Original rows: 785741\n",
      "Rows after dropna: 17218\n",
      "Number of rows dropped: 768523\n"
     ]
    }
   ],
   "source": [
    "# Remove duplicate rows from the DataFrame based on the job_location column\n",
    "unique_locations = df.drop_duplicates(subset = ['job_location'])\n",
    "print(f\"Original rows: {len(df)}\")\n",
    "print(f\"Rows after dropna: {len(unique_locations)}\")\n",
    "print(f\"Number of rows dropped: {len(df) - len(unique_locations)}\")"
   ]
  },
  {
   "cell_type": "code",
   "execution_count": 50,
   "id": "25600b5d",
   "metadata": {},
   "outputs": [
    {
     "data": {
      "text/plain": [
       "(0    None\n",
       " 1    None\n",
       " 2    None\n",
       " 3    None\n",
       " 4    None\n",
       " 5    None\n",
       " 6    None\n",
       " 7    None\n",
       " 8    None\n",
       " 9    None\n",
       " Name: salary_rate, dtype: object,\n",
       " 0    Unknown\n",
       " 1    Unknown\n",
       " 2    Unknown\n",
       " 3    Unknown\n",
       " 4    Unknown\n",
       " 5    Unknown\n",
       " 6    Unknown\n",
       " 7    Unknown\n",
       " 8    Unknown\n",
       " 9    Unknown\n",
       " Name: salary_rate, dtype: object)"
      ]
     },
     "execution_count": 50,
     "metadata": {},
     "output_type": "execute_result"
    }
   ],
   "source": [
    "salary_rate_before = df['salary_rate'].head(10)\n",
    "df_filled = df.fillna({'salary_rate': 'Unknown'})\n",
    "salary_rate_after = df_filled['salary_rate'].head(10)\n",
    "salary_rate_before, salary_rate_after\n"
   ]
  }
 ],
 "metadata": {
  "kernelspec": {
   "display_name": "python_project",
   "language": "python",
   "name": "python3"
  },
  "language_info": {
   "codemirror_mode": {
    "name": "ipython",
    "version": 3
   },
   "file_extension": ".py",
   "mimetype": "text/x-python",
   "name": "python",
   "nbconvert_exporter": "python",
   "pygments_lexer": "ipython3",
   "version": "3.11.11"
  }
 },
 "nbformat": 4,
 "nbformat_minor": 5
}
